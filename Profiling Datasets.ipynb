{
 "cells": [
  {
   "cell_type": "markdown",
   "id": "31e39021-9499-44c0-894e-7032712b1c54",
   "metadata": {
    "tags": []
   },
   "source": [
    "# Downloading Libraries"
   ]
  },
  {
   "cell_type": "code",
   "execution_count": 1,
   "id": "a0b9712a",
   "metadata": {
    "collapsed": true,
    "jupyter": {
     "outputs_hidden": true
    },
    "tags": []
   },
   "outputs": [
    {
     "name": "stdout",
     "output_type": "stream",
     "text": [
      "Requirement already satisfied: ydata-profiling in d:\\python\\lib\\site-packages (4.1.2)\n",
      "Requirement already satisfied: scipy<1.10,>=1.4.1 in d:\\python\\lib\\site-packages (from ydata-profiling) (1.7.1)\n",
      "Requirement already satisfied: pandas!=1.4.0,<1.6,>1.1 in d:\\python\\lib\\site-packages (from ydata-profiling) (1.3.4)\n",
      "Requirement already satisfied: matplotlib<3.7,>=3.2 in d:\\python\\lib\\site-packages (from ydata-profiling) (3.4.3)\n",
      "Requirement already satisfied: pydantic<1.11,>=1.8.1 in d:\\python\\lib\\site-packages (from ydata-profiling) (1.10.17)\n",
      "Requirement already satisfied: PyYAML<6.1,>=5.0.0 in d:\\python\\lib\\site-packages (from ydata-profiling) (6.0)\n",
      "Requirement already satisfied: jinja2<3.2,>=2.11.1 in d:\\python\\lib\\site-packages (from ydata-profiling) (2.11.3)\n",
      "Requirement already satisfied: visions==0.7.5 in d:\\python\\lib\\site-packages (from visions[type_image_path]==0.7.5->ydata-profiling) (0.7.5)\n",
      "Requirement already satisfied: numpy<1.24,>=1.16.0 in d:\\python\\lib\\site-packages (from ydata-profiling) (1.22.4)\n",
      "Requirement already satisfied: htmlmin==0.1.12 in d:\\python\\lib\\site-packages (from ydata-profiling) (0.1.12)\n",
      "Requirement already satisfied: phik<0.13,>=0.11.1 in d:\\python\\lib\\site-packages (from ydata-profiling) (0.12.4)\n",
      "Requirement already satisfied: requests<2.29,>=2.24.0 in d:\\python\\lib\\site-packages (from ydata-profiling) (2.26.0)\n",
      "Requirement already satisfied: tqdm<4.65,>=4.48.2 in d:\\python\\lib\\site-packages (from ydata-profiling) (4.62.3)\n",
      "Requirement already satisfied: seaborn<0.13,>=0.10.1 in d:\\python\\lib\\site-packages (from ydata-profiling) (0.11.2)\n",
      "Requirement already satisfied: multimethod<1.10,>=1.4 in d:\\python\\lib\\site-packages (from ydata-profiling) (1.9.1)\n",
      "Requirement already satisfied: statsmodels<0.14,>=0.13.2 in d:\\python\\lib\\site-packages (from ydata-profiling) (0.13.5)\n",
      "Requirement already satisfied: typeguard<2.14,>=2.13.2 in d:\\python\\lib\\site-packages (from ydata-profiling) (2.13.3)\n",
      "Requirement already satisfied: imagehash==4.3.1 in d:\\python\\lib\\site-packages (from ydata-profiling) (4.3.1)\n",
      "Requirement already satisfied: PyWavelets in d:\\python\\lib\\site-packages (from imagehash==4.3.1->ydata-profiling) (1.1.1)\n",
      "Requirement already satisfied: pillow in d:\\python\\lib\\site-packages (from imagehash==4.3.1->ydata-profiling) (8.4.0)\n",
      "Requirement already satisfied: attrs>=19.3.0 in d:\\python\\lib\\site-packages (from visions==0.7.5->visions[type_image_path]==0.7.5->ydata-profiling) (23.2.0)\n",
      "Requirement already satisfied: networkx>=2.4 in d:\\python\\lib\\site-packages (from visions==0.7.5->visions[type_image_path]==0.7.5->ydata-profiling) (2.6.3)\n",
      "Requirement already satisfied: tangled-up-in-unicode>=0.0.4 in d:\\python\\lib\\site-packages (from visions==0.7.5->visions[type_image_path]==0.7.5->ydata-profiling) (0.2.0)\n",
      "Requirement already satisfied: MarkupSafe>=0.23 in d:\\python\\lib\\site-packages (from jinja2<3.2,>=2.11.1->ydata-profiling) (1.1.1)\n",
      "Requirement already satisfied: cycler>=0.10 in d:\\python\\lib\\site-packages (from matplotlib<3.7,>=3.2->ydata-profiling) (0.10.0)\n",
      "Requirement already satisfied: kiwisolver>=1.0.1 in d:\\python\\lib\\site-packages (from matplotlib<3.7,>=3.2->ydata-profiling) (1.3.1)\n",
      "Requirement already satisfied: pyparsing>=2.2.1 in d:\\python\\lib\\site-packages (from matplotlib<3.7,>=3.2->ydata-profiling) (3.0.4)\n",
      "Requirement already satisfied: python-dateutil>=2.7 in d:\\python\\lib\\site-packages (from matplotlib<3.7,>=3.2->ydata-profiling) (2.8.2)\n",
      "Requirement already satisfied: pytz>=2017.3 in d:\\python\\lib\\site-packages (from pandas!=1.4.0,<1.6,>1.1->ydata-profiling) (2021.3)\n",
      "Requirement already satisfied: joblib>=0.14.1 in d:\\python\\lib\\site-packages (from phik<0.13,>=0.11.1->ydata-profiling) (1.1.0)\n",
      "Requirement already satisfied: typing-extensions>=4.2.0 in d:\\python\\lib\\site-packages (from pydantic<1.11,>=1.8.1->ydata-profiling) (4.12.2)\n",
      "Requirement already satisfied: urllib3<1.27,>=1.21.1 in d:\\python\\lib\\site-packages (from requests<2.29,>=2.24.0->ydata-profiling) (1.26.7)\n",
      "Requirement already satisfied: certifi>=2017.4.17 in d:\\python\\lib\\site-packages (from requests<2.29,>=2.24.0->ydata-profiling) (2024.7.4)\n",
      "Requirement already satisfied: charset-normalizer~=2.0.0 in d:\\python\\lib\\site-packages (from requests<2.29,>=2.24.0->ydata-profiling) (2.0.4)\n",
      "Requirement already satisfied: idna<4,>=2.5 in d:\\python\\lib\\site-packages (from requests<2.29,>=2.24.0->ydata-profiling) (3.2)\n",
      "Requirement already satisfied: patsy>=0.5.2 in d:\\python\\lib\\site-packages (from statsmodels<0.14,>=0.13.2->ydata-profiling) (0.5.2)\n",
      "Requirement already satisfied: packaging>=21.3 in d:\\python\\lib\\site-packages (from statsmodels<0.14,>=0.13.2->ydata-profiling) (24.1)\n",
      "Requirement already satisfied: colorama in d:\\python\\lib\\site-packages (from tqdm<4.65,>=4.48.2->ydata-profiling) (0.4.4)\n",
      "Requirement already satisfied: six in d:\\python\\lib\\site-packages (from cycler>=0.10->matplotlib<3.7,>=3.2->ydata-profiling) (1.16.0)\n"
     ]
    },
    {
     "name": "stderr",
     "output_type": "stream",
     "text": [
      "WARNING: visions 0.7.5 does not provide the extra 'type-image-path'\n",
      "DEPRECATION: pyodbc 4.0.0-unsupported has a non-standard version number. pip 24.1 will enforce this behaviour change. A possible replacement is to upgrade to a newer version of pyodbc or contact the author to suggest that they release a version with a conforming version number. Discussion can be found at https://github.com/pypa/pip/issues/12063\n",
      "\n",
      "[notice] A new release of pip is available: 24.0 -> 24.1.1\n",
      "[notice] To update, run: python.exe -m pip install --upgrade pip\n"
     ]
    },
    {
     "name": "stdout",
     "output_type": "stream",
     "text": [
      "Requirement already satisfied: pandas in d:\\python\\lib\\site-packages (1.3.4)\n"
     ]
    },
    {
     "name": "stderr",
     "output_type": "stream",
     "text": [
      "ERROR: Could not find a version that satisfies the requirement upgrade (from versions: none)\n",
      "ERROR: No matching distribution found for upgrade\n",
      "\n",
      "[notice] A new release of pip is available: 24.0 -> 24.1.1\n",
      "[notice] To update, run: python.exe -m pip install --upgrade pip\n"
     ]
    },
    {
     "name": "stdout",
     "output_type": "stream",
     "text": [
      "Requirement already satisfied: numpy in d:\\python\\lib\\site-packages (1.22.4)\n"
     ]
    },
    {
     "name": "stderr",
     "output_type": "stream",
     "text": [
      "ERROR: Could not find a version that satisfies the requirement upgrade (from versions: none)\n",
      "ERROR: No matching distribution found for upgrade\n",
      "\n",
      "[notice] A new release of pip is available: 24.0 -> 24.1.1\n",
      "[notice] To update, run: python.exe -m pip install --upgrade pip\n"
     ]
    }
   ],
   "source": [
    "!pip3 install ydata-profiling\n",
    "!pip3 install pandas -- upgrade\n",
    "!pip3 install numpy -- upgrade"
   ]
  },
  {
   "cell_type": "markdown",
   "id": "7f27e7bc-14cc-4e0f-86bd-afca93ee2075",
   "metadata": {
    "tags": []
   },
   "source": [
    "# Importing Libraries"
   ]
  },
  {
   "cell_type": "code",
   "execution_count": 2,
   "id": "6a095b8f",
   "metadata": {},
   "outputs": [],
   "source": [
    "import pandas as pd\n",
    "import numpy as np\n",
    "import os\n",
    "from ydata_profiling.utils.cache import cache_file\n",
    "from ydata_profiling import ProfileReport"
   ]
  },
  {
   "cell_type": "code",
   "execution_count": 3,
   "id": "2f6ef265",
   "metadata": {
    "collapsed": true,
    "jupyter": {
     "outputs_hidden": true
    },
    "tags": []
   },
   "outputs": [
    {
     "name": "stdout",
     "output_type": "stream",
     "text": [
      "\n",
      "INSTALLED VERSIONS\n",
      "------------------\n",
      "commit           : 945c9ed766a61c7d2c0a7cbb251b6edebf9cb7d5\n",
      "python           : 3.9.7.final.0\n",
      "python-bits      : 64\n",
      "OS               : Windows\n",
      "OS-release       : 10\n",
      "Version          : 10.0.22631\n",
      "machine          : AMD64\n",
      "processor        : Intel64 Family 6 Model 126 Stepping 5, GenuineIntel\n",
      "byteorder        : little\n",
      "LC_ALL           : None\n",
      "LANG             : None\n",
      "LOCALE           : English_India.1252\n",
      "\n",
      "pandas           : 1.3.4\n",
      "numpy            : 1.22.4\n",
      "pytz             : 2021.3\n",
      "dateutil         : 2.8.2\n",
      "pip              : 24.0\n",
      "setuptools       : 58.0.4\n",
      "Cython           : 0.29.24\n",
      "pytest           : 6.2.4\n",
      "hypothesis       : None\n",
      "sphinx           : 4.2.0\n",
      "blosc            : None\n",
      "feather          : None\n",
      "xlsxwriter       : 3.0.1\n",
      "lxml.etree       : 4.6.3\n",
      "html5lib         : 1.1\n",
      "pymysql          : None\n",
      "psycopg2         : 2.9.5 (dt dec pq3 ext lo64)\n",
      "jinja2           : 2.11.3\n",
      "IPython          : 7.29.0\n",
      "pandas_datareader: None\n",
      "bs4              : 4.10.0\n",
      "bottleneck       : 1.3.2\n",
      "fsspec           : 2021.10.1\n",
      "fastparquet      : None\n",
      "gcsfs            : None\n",
      "matplotlib       : 3.4.3\n",
      "numexpr          : 2.7.3\n",
      "odfpy            : None\n",
      "openpyxl         : 3.0.9\n",
      "pandas_gbq       : None\n",
      "pyarrow          : None\n",
      "pyxlsb           : None\n",
      "s3fs             : None\n",
      "scipy            : 1.7.1\n",
      "sqlalchemy       : 1.4.22\n",
      "tables           : 3.6.1\n",
      "tabulate         : None\n",
      "xarray           : None\n",
      "xlrd             : 2.0.1\n",
      "xlwt             : 1.3.0\n",
      "numba            : None\n"
     ]
    }
   ],
   "source": [
    "pd.show_versions(as_json=False)"
   ]
  },
  {
   "cell_type": "code",
   "execution_count": 4,
   "id": "5ca4c180",
   "metadata": {},
   "outputs": [
    {
     "data": {
      "text/plain": [
       "'C:\\\\Users\\\\RISHABH JAIN\\\\Downloads'"
      ]
     },
     "execution_count": 4,
     "metadata": {},
     "output_type": "execute_result"
    }
   ],
   "source": [
    "os.getcwd()"
   ]
  },
  {
   "cell_type": "code",
   "execution_count": 5,
   "id": "5260c9c9",
   "metadata": {},
   "outputs": [],
   "source": [
    "os.chdir(r'C:\\Users\\RISHABH JAIN\\Downloads')"
   ]
  },
  {
   "cell_type": "markdown",
   "id": "66af729b-ceed-4761-bf8c-939aa10fb598",
   "metadata": {
    "tags": []
   },
   "source": [
    "# Importing Dataframe"
   ]
  },
  {
   "cell_type": "code",
   "execution_count": 6,
   "id": "37e1a66b",
   "metadata": {},
   "outputs": [
    {
     "data": {
      "text/html": [
       "<div>\n",
       "<style scoped>\n",
       "    .dataframe tbody tr th:only-of-type {\n",
       "        vertical-align: middle;\n",
       "    }\n",
       "\n",
       "    .dataframe tbody tr th {\n",
       "        vertical-align: top;\n",
       "    }\n",
       "\n",
       "    .dataframe thead th {\n",
       "        text-align: right;\n",
       "    }\n",
       "</style>\n",
       "<table border=\"1\" class=\"dataframe\">\n",
       "  <thead>\n",
       "    <tr style=\"text-align: right;\">\n",
       "      <th></th>\n",
       "      <th>CUST_ID</th>\n",
       "      <th>BALANCE</th>\n",
       "      <th>BALANCE_FREQUENCY</th>\n",
       "      <th>PURCHASES</th>\n",
       "      <th>ONEOFF_PURCHASES</th>\n",
       "      <th>INSTALLMENTS_PURCHASES</th>\n",
       "      <th>CASH_ADVANCE</th>\n",
       "      <th>PURCHASES_FREQUENCY</th>\n",
       "      <th>ONEOFF_PURCHASES_FREQUENCY</th>\n",
       "      <th>PURCHASES_INSTALLMENTS_FREQUENCY</th>\n",
       "      <th>CASH_ADVANCE_FREQUENCY</th>\n",
       "      <th>CASH_ADVANCE_TRX</th>\n",
       "      <th>PURCHASES_TRX</th>\n",
       "      <th>CREDIT_LIMIT</th>\n",
       "      <th>PAYMENTS</th>\n",
       "      <th>MINIMUM_PAYMENTS</th>\n",
       "      <th>PRC_FULL_PAYMENT</th>\n",
       "      <th>TENURE</th>\n",
       "    </tr>\n",
       "  </thead>\n",
       "  <tbody>\n",
       "    <tr>\n",
       "      <th>0</th>\n",
       "      <td>C10001</td>\n",
       "      <td>40.900749</td>\n",
       "      <td>0.818182</td>\n",
       "      <td>95.4</td>\n",
       "      <td>0.0</td>\n",
       "      <td>95.4</td>\n",
       "      <td>0.000000</td>\n",
       "      <td>0.166667</td>\n",
       "      <td>0.0</td>\n",
       "      <td>0.083333</td>\n",
       "      <td>0.00</td>\n",
       "      <td>0</td>\n",
       "      <td>2</td>\n",
       "      <td>1000.0</td>\n",
       "      <td>201.802084</td>\n",
       "      <td>139.509787</td>\n",
       "      <td>0.000000</td>\n",
       "      <td>12</td>\n",
       "    </tr>\n",
       "    <tr>\n",
       "      <th>1</th>\n",
       "      <td>C10002</td>\n",
       "      <td>3202.467416</td>\n",
       "      <td>0.909091</td>\n",
       "      <td>0.0</td>\n",
       "      <td>0.0</td>\n",
       "      <td>0.0</td>\n",
       "      <td>6442.945483</td>\n",
       "      <td>0.000000</td>\n",
       "      <td>0.0</td>\n",
       "      <td>0.000000</td>\n",
       "      <td>0.25</td>\n",
       "      <td>4</td>\n",
       "      <td>0</td>\n",
       "      <td>7000.0</td>\n",
       "      <td>4103.032597</td>\n",
       "      <td>1072.340217</td>\n",
       "      <td>0.222222</td>\n",
       "      <td>12</td>\n",
       "    </tr>\n",
       "  </tbody>\n",
       "</table>\n",
       "</div>"
      ],
      "text/plain": [
       "  CUST_ID      BALANCE  BALANCE_FREQUENCY  PURCHASES  ONEOFF_PURCHASES  \\\n",
       "0  C10001    40.900749           0.818182       95.4               0.0   \n",
       "1  C10002  3202.467416           0.909091        0.0               0.0   \n",
       "\n",
       "   INSTALLMENTS_PURCHASES  CASH_ADVANCE  PURCHASES_FREQUENCY  \\\n",
       "0                    95.4      0.000000             0.166667   \n",
       "1                     0.0   6442.945483             0.000000   \n",
       "\n",
       "   ONEOFF_PURCHASES_FREQUENCY  PURCHASES_INSTALLMENTS_FREQUENCY  \\\n",
       "0                         0.0                          0.083333   \n",
       "1                         0.0                          0.000000   \n",
       "\n",
       "   CASH_ADVANCE_FREQUENCY  CASH_ADVANCE_TRX  PURCHASES_TRX  CREDIT_LIMIT  \\\n",
       "0                    0.00                 0              2        1000.0   \n",
       "1                    0.25                 4              0        7000.0   \n",
       "\n",
       "      PAYMENTS  MINIMUM_PAYMENTS  PRC_FULL_PAYMENT  TENURE  \n",
       "0   201.802084        139.509787          0.000000      12  \n",
       "1  4103.032597       1072.340217          0.222222      12  "
      ]
     },
     "execution_count": 6,
     "metadata": {},
     "output_type": "execute_result"
    }
   ],
   "source": [
    "df = pd.read_csv('CC_GENERAL.csv')\n",
    "df.head(2)"
   ]
  },
  {
   "cell_type": "code",
   "execution_count": 7,
   "id": "e5699d39",
   "metadata": {},
   "outputs": [
    {
     "name": "stdout",
     "output_type": "stream",
     "text": [
      "<class 'pandas.core.frame.DataFrame'>\n",
      "RangeIndex: 8950 entries, 0 to 8949\n",
      "Data columns (total 18 columns):\n",
      " #   Column                            Non-Null Count  Dtype  \n",
      "---  ------                            --------------  -----  \n",
      " 0   CUST_ID                           8950 non-null   object \n",
      " 1   BALANCE                           8950 non-null   float64\n",
      " 2   BALANCE_FREQUENCY                 8950 non-null   float64\n",
      " 3   PURCHASES                         8950 non-null   float64\n",
      " 4   ONEOFF_PURCHASES                  8950 non-null   float64\n",
      " 5   INSTALLMENTS_PURCHASES            8950 non-null   float64\n",
      " 6   CASH_ADVANCE                      8950 non-null   float64\n",
      " 7   PURCHASES_FREQUENCY               8950 non-null   float64\n",
      " 8   ONEOFF_PURCHASES_FREQUENCY        8950 non-null   float64\n",
      " 9   PURCHASES_INSTALLMENTS_FREQUENCY  8950 non-null   float64\n",
      " 10  CASH_ADVANCE_FREQUENCY            8950 non-null   float64\n",
      " 11  CASH_ADVANCE_TRX                  8950 non-null   int64  \n",
      " 12  PURCHASES_TRX                     8950 non-null   int64  \n",
      " 13  CREDIT_LIMIT                      8949 non-null   float64\n",
      " 14  PAYMENTS                          8950 non-null   float64\n",
      " 15  MINIMUM_PAYMENTS                  8637 non-null   float64\n",
      " 16  PRC_FULL_PAYMENT                  8950 non-null   float64\n",
      " 17  TENURE                            8950 non-null   int64  \n",
      "dtypes: float64(14), int64(3), object(1)\n",
      "memory usage: 1.2+ MB\n"
     ]
    }
   ],
   "source": [
    "df.info()"
   ]
  },
  {
   "cell_type": "code",
   "execution_count": 8,
   "id": "60c25cea",
   "metadata": {},
   "outputs": [
    {
     "data": {
      "text/html": [
       "<div>\n",
       "<style scoped>\n",
       "    .dataframe tbody tr th:only-of-type {\n",
       "        vertical-align: middle;\n",
       "    }\n",
       "\n",
       "    .dataframe tbody tr th {\n",
       "        vertical-align: top;\n",
       "    }\n",
       "\n",
       "    .dataframe thead th {\n",
       "        text-align: right;\n",
       "    }\n",
       "</style>\n",
       "<table border=\"1\" class=\"dataframe\">\n",
       "  <thead>\n",
       "    <tr style=\"text-align: right;\">\n",
       "      <th></th>\n",
       "      <th>CUST_ID</th>\n",
       "      <th>BALANCE</th>\n",
       "      <th>BALANCE_FREQUENCY</th>\n",
       "      <th>PURCHASES</th>\n",
       "      <th>ONEOFF_PURCHASES</th>\n",
       "      <th>INSTALLMENTS_PURCHASES</th>\n",
       "      <th>CASH_ADVANCE</th>\n",
       "      <th>PURCHASES_FREQUENCY</th>\n",
       "      <th>ONEOFF_PURCHASES_FREQUENCY</th>\n",
       "      <th>PURCHASES_INSTALLMENTS_FREQUENCY</th>\n",
       "      <th>CASH_ADVANCE_FREQUENCY</th>\n",
       "      <th>CASH_ADVANCE_TRX</th>\n",
       "      <th>PURCHASES_TRX</th>\n",
       "      <th>CREDIT_LIMIT</th>\n",
       "      <th>PAYMENTS</th>\n",
       "      <th>MINIMUM_PAYMENTS</th>\n",
       "      <th>PRC_FULL_PAYMENT</th>\n",
       "      <th>TENURE</th>\n",
       "    </tr>\n",
       "  </thead>\n",
       "  <tbody>\n",
       "    <tr>\n",
       "      <th>0</th>\n",
       "      <td>C10001</td>\n",
       "      <td>40.900749</td>\n",
       "      <td>0.818182</td>\n",
       "      <td>95.40</td>\n",
       "      <td>0.00</td>\n",
       "      <td>95.4</td>\n",
       "      <td>0.000000</td>\n",
       "      <td>0.166667</td>\n",
       "      <td>0.000000</td>\n",
       "      <td>0.083333</td>\n",
       "      <td>0.000000</td>\n",
       "      <td>0</td>\n",
       "      <td>2</td>\n",
       "      <td>1000.0</td>\n",
       "      <td>201.802084</td>\n",
       "      <td>139.509787</td>\n",
       "      <td>0.000000</td>\n",
       "      <td>12</td>\n",
       "    </tr>\n",
       "    <tr>\n",
       "      <th>1</th>\n",
       "      <td>C10002</td>\n",
       "      <td>3202.467416</td>\n",
       "      <td>0.909091</td>\n",
       "      <td>0.00</td>\n",
       "      <td>0.00</td>\n",
       "      <td>0.0</td>\n",
       "      <td>6442.945483</td>\n",
       "      <td>0.000000</td>\n",
       "      <td>0.000000</td>\n",
       "      <td>0.000000</td>\n",
       "      <td>0.250000</td>\n",
       "      <td>4</td>\n",
       "      <td>0</td>\n",
       "      <td>7000.0</td>\n",
       "      <td>4103.032597</td>\n",
       "      <td>1072.340217</td>\n",
       "      <td>0.222222</td>\n",
       "      <td>12</td>\n",
       "    </tr>\n",
       "    <tr>\n",
       "      <th>2</th>\n",
       "      <td>C10003</td>\n",
       "      <td>2495.148862</td>\n",
       "      <td>1.000000</td>\n",
       "      <td>773.17</td>\n",
       "      <td>773.17</td>\n",
       "      <td>0.0</td>\n",
       "      <td>0.000000</td>\n",
       "      <td>1.000000</td>\n",
       "      <td>1.000000</td>\n",
       "      <td>0.000000</td>\n",
       "      <td>0.000000</td>\n",
       "      <td>0</td>\n",
       "      <td>12</td>\n",
       "      <td>7500.0</td>\n",
       "      <td>622.066742</td>\n",
       "      <td>627.284787</td>\n",
       "      <td>0.000000</td>\n",
       "      <td>12</td>\n",
       "    </tr>\n",
       "    <tr>\n",
       "      <th>3</th>\n",
       "      <td>C10004</td>\n",
       "      <td>1666.670542</td>\n",
       "      <td>0.636364</td>\n",
       "      <td>1499.00</td>\n",
       "      <td>1499.00</td>\n",
       "      <td>0.0</td>\n",
       "      <td>205.788017</td>\n",
       "      <td>0.083333</td>\n",
       "      <td>0.083333</td>\n",
       "      <td>0.000000</td>\n",
       "      <td>0.083333</td>\n",
       "      <td>1</td>\n",
       "      <td>1</td>\n",
       "      <td>7500.0</td>\n",
       "      <td>0.000000</td>\n",
       "      <td>NaN</td>\n",
       "      <td>0.000000</td>\n",
       "      <td>12</td>\n",
       "    </tr>\n",
       "    <tr>\n",
       "      <th>4</th>\n",
       "      <td>C10005</td>\n",
       "      <td>817.714335</td>\n",
       "      <td>1.000000</td>\n",
       "      <td>16.00</td>\n",
       "      <td>16.00</td>\n",
       "      <td>0.0</td>\n",
       "      <td>0.000000</td>\n",
       "      <td>0.083333</td>\n",
       "      <td>0.083333</td>\n",
       "      <td>0.000000</td>\n",
       "      <td>0.000000</td>\n",
       "      <td>0</td>\n",
       "      <td>1</td>\n",
       "      <td>1200.0</td>\n",
       "      <td>678.334763</td>\n",
       "      <td>244.791237</td>\n",
       "      <td>0.000000</td>\n",
       "      <td>12</td>\n",
       "    </tr>\n",
       "  </tbody>\n",
       "</table>\n",
       "</div>"
      ],
      "text/plain": [
       "  CUST_ID      BALANCE  BALANCE_FREQUENCY  PURCHASES  ONEOFF_PURCHASES  \\\n",
       "0  C10001    40.900749           0.818182      95.40              0.00   \n",
       "1  C10002  3202.467416           0.909091       0.00              0.00   \n",
       "2  C10003  2495.148862           1.000000     773.17            773.17   \n",
       "3  C10004  1666.670542           0.636364    1499.00           1499.00   \n",
       "4  C10005   817.714335           1.000000      16.00             16.00   \n",
       "\n",
       "   INSTALLMENTS_PURCHASES  CASH_ADVANCE  PURCHASES_FREQUENCY  \\\n",
       "0                    95.4      0.000000             0.166667   \n",
       "1                     0.0   6442.945483             0.000000   \n",
       "2                     0.0      0.000000             1.000000   \n",
       "3                     0.0    205.788017             0.083333   \n",
       "4                     0.0      0.000000             0.083333   \n",
       "\n",
       "   ONEOFF_PURCHASES_FREQUENCY  PURCHASES_INSTALLMENTS_FREQUENCY  \\\n",
       "0                    0.000000                          0.083333   \n",
       "1                    0.000000                          0.000000   \n",
       "2                    1.000000                          0.000000   \n",
       "3                    0.083333                          0.000000   \n",
       "4                    0.083333                          0.000000   \n",
       "\n",
       "   CASH_ADVANCE_FREQUENCY  CASH_ADVANCE_TRX  PURCHASES_TRX  CREDIT_LIMIT  \\\n",
       "0                0.000000                 0              2        1000.0   \n",
       "1                0.250000                 4              0        7000.0   \n",
       "2                0.000000                 0             12        7500.0   \n",
       "3                0.083333                 1              1        7500.0   \n",
       "4                0.000000                 0              1        1200.0   \n",
       "\n",
       "      PAYMENTS  MINIMUM_PAYMENTS  PRC_FULL_PAYMENT  TENURE  \n",
       "0   201.802084        139.509787          0.000000      12  \n",
       "1  4103.032597       1072.340217          0.222222      12  \n",
       "2   622.066742        627.284787          0.000000      12  \n",
       "3     0.000000               NaN          0.000000      12  \n",
       "4   678.334763        244.791237          0.000000      12  "
      ]
     },
     "execution_count": 8,
     "metadata": {},
     "output_type": "execute_result"
    }
   ],
   "source": [
    "df.head()"
   ]
  },
  {
   "cell_type": "markdown",
   "id": "783fd9ea-4a0b-41da-8bf2-c68b79642381",
   "metadata": {
    "tags": []
   },
   "source": [
    "# Create A profile"
   ]
  },
  {
   "cell_type": "code",
   "execution_count": 9,
   "id": "47d41891",
   "metadata": {},
   "outputs": [],
   "source": [
    "#Provide the column name that provides the chronological order of your time-series\n",
    "profile = ProfileReport(df, tsmode=True, sortby=\"CUST_ID\", title=\"Time-Series EDA\")"
   ]
  },
  {
   "cell_type": "code",
   "execution_count": 10,
   "id": "e4c18fe8",
   "metadata": {
    "collapsed": true,
    "jupyter": {
     "outputs_hidden": true
    },
    "tags": []
   },
   "outputs": [
    {
     "data": {
      "application/vnd.jupyter.widget-view+json": {
       "model_id": "2cae6de9002746368369cfdaf1e5cb17",
       "version_major": 2,
       "version_minor": 0
      },
      "text/plain": [
       "Summarize dataset:   0%|          | 0/5 [00:00<?, ?it/s]"
      ]
     },
     "metadata": {},
     "output_type": "display_data"
    },
    {
     "data": {
      "application/vnd.jupyter.widget-view+json": {
       "model_id": "15754e59db304cf9999a401cfe3e9537",
       "version_major": 2,
       "version_minor": 0
      },
      "text/plain": [
       "Generate report structure:   0%|          | 0/1 [00:00<?, ?it/s]"
      ]
     },
     "metadata": {},
     "output_type": "display_data"
    },
    {
     "data": {
      "application/vnd.jupyter.widget-view+json": {
       "model_id": "",
       "version_major": 2,
       "version_minor": 0
      },
      "text/plain": [
       "Render widgets:   0%|          | 0/1 [00:00<?, ?it/s]"
      ]
     },
     "metadata": {},
     "output_type": "display_data"
    },
    {
     "data": {
      "application/vnd.jupyter.widget-view+json": {
       "model_id": "e9e0b97e3543493395996e5f39da96aa",
       "version_major": 2,
       "version_minor": 0
      },
      "text/plain": [
       "VBox(children=(Tab(children=(Tab(children=(GridBox(children=(VBox(children=(GridspecLayout(children=(HTML(valu…"
      ]
     },
     "metadata": {},
     "output_type": "display_data"
    }
   ],
   "source": [
    "profile.to_widgets()"
   ]
  },
  {
   "cell_type": "code",
   "execution_count": 21,
   "id": "ad69ba7e",
   "metadata": {},
   "outputs": [
    {
     "data": {
      "application/vnd.jupyter.widget-view+json": {
       "model_id": "c7ab69a74b6b427c830678d2852fec9e",
       "version_major": 2,
       "version_minor": 0
      },
      "text/plain": [
       "Render HTML:   0%|          | 0/1 [00:00<?, ?it/s]"
      ]
     },
     "metadata": {},
     "output_type": "display_data"
    },
    {
     "data": {
      "application/vnd.jupyter.widget-view+json": {
       "model_id": "4ad85ff969984bbbad6d99a5b9b8e01d",
       "version_major": 2,
       "version_minor": 0
      },
      "text/plain": [
       "Export report to file:   0%|          | 0/1 [00:00<?, ?it/s]"
      ]
     },
     "metadata": {},
     "output_type": "display_data"
    }
   ],
   "source": [
    "profile.to_file(\"html_view_credit_df_2.html\")"
   ]
  },
  {
   "cell_type": "code",
   "execution_count": null,
   "id": "81b453ec",
   "metadata": {
    "jupyter": {
     "source_hidden": true
    },
    "tags": []
   },
   "outputs": [],
   "source": [
    "# // df: a pandas or spark.sql DataFrame\n",
    "# minimal: minimal mode is a default configuration with minimal computation\n",
    "# ts_mode: activates time-series analysis for all the numerical variables from the dataset. Only available for pd.DataFrame\n",
    "# sort_by: ignored if ts_mode=False. Order the dataset by a provided column.\n",
    "# sensitive: hides the values for categorical and text variables for report privacy\n",
    "# config_file: a config file (.yml), mutually exclusive with `minimal`\n",
    "# lazy: compute when needed\n",
    "# sample: optional dict(name=\"Sample title\", caption=\"Caption\", data=pd.DataFrame())\n",
    "# typeset: optional user typeset to use for type inference\n",
    "# summarizer: optional user summarizer to generate custom summary output\n",
    "# type_schema: optional dict containing pairs of `column name`: `type`"
   ]
  },
  {
   "cell_type": "markdown",
   "id": "125c0a89-97b2-4b70-a4f4-4290bf064c0c",
   "metadata": {
    "tags": []
   },
   "source": [
    "# Example Running"
   ]
  },
  {
   "cell_type": "code",
   "execution_count": 11,
   "id": "fdb0fcfd",
   "metadata": {},
   "outputs": [
    {
     "name": "stdout",
     "output_type": "stream",
     "text": [
      "<class 'pandas.core.frame.DataFrame'>\n",
      "RangeIndex: 3753 entries, 0 to 3752\n",
      "Data columns (total 21 columns):\n",
      " #   Column                          Non-Null Count  Dtype  \n",
      "---  ------                          --------------  -----  \n",
      " 0   Outcome                         3753 non-null   object \n",
      " 1   Week End                        3753 non-null   object \n",
      " 2   Age Group                       3753 non-null   object \n",
      " 3   Unvaccinated Rate               3753 non-null   float64\n",
      " 4   Vaccinated Rate                 3426 non-null   float64\n",
      " 5   Boosted Rate                    2529 non-null   float64\n",
      " 6   Crude Vaccinated Ratio          2320 non-null   float64\n",
      " 7   Crude Boosted Ratio             1761 non-null   float64\n",
      " 8   Age-Adjusted Unvaccinated Rate  417 non-null    float64\n",
      " 9   Age-Adjusted Vaccinated Rate    417 non-null    float64\n",
      " 10  Age-Adjusted Boosted Rate       330 non-null    float64\n",
      " 11  Age-Adjusted Vaccinated Ratio   380 non-null    float64\n",
      " 12  Age-Adjusted Boosted Ratio      312 non-null    float64\n",
      " 13  Population Unvaccinated         3753 non-null   int64  \n",
      " 14  Population Vaccinated           3213 non-null   float64\n",
      " 15  Population Boosted              2529 non-null   float64\n",
      " 16  Outcome Unvaccinated            3753 non-null   int64  \n",
      " 17  Outcome Vaccinated              3426 non-null   float64\n",
      " 18  Outcome Boosted                 2529 non-null   float64\n",
      " 19  Age Group Min                   3753 non-null   int64  \n",
      " 20  Age Group Max                   3753 non-null   int64  \n",
      "dtypes: float64(14), int64(4), object(3)\n",
      "memory usage: 615.9+ KB\n"
     ]
    }
   ],
   "source": [
    "df_covid = pd.read_csv(\"covid_data.csv\")\n",
    "df_covid.info()"
   ]
  },
  {
   "cell_type": "code",
   "execution_count": 12,
   "id": "d23ac476",
   "metadata": {},
   "outputs": [],
   "source": [
    "df_covid.fillna(0, inplace = True)"
   ]
  },
  {
   "cell_type": "code",
   "execution_count": 13,
   "id": "c8a78de1",
   "metadata": {},
   "outputs": [
    {
     "name": "stdout",
     "output_type": "stream",
     "text": [
      "<class 'pandas.core.frame.DataFrame'>\n",
      "RangeIndex: 3753 entries, 0 to 3752\n",
      "Data columns (total 21 columns):\n",
      " #   Column                          Non-Null Count  Dtype  \n",
      "---  ------                          --------------  -----  \n",
      " 0   Outcome                         3753 non-null   object \n",
      " 1   Week End                        3753 non-null   object \n",
      " 2   Age Group                       3753 non-null   object \n",
      " 3   Unvaccinated Rate               3753 non-null   float64\n",
      " 4   Vaccinated Rate                 3753 non-null   float64\n",
      " 5   Boosted Rate                    3753 non-null   float64\n",
      " 6   Crude Vaccinated Ratio          3753 non-null   float64\n",
      " 7   Crude Boosted Ratio             3753 non-null   float64\n",
      " 8   Age-Adjusted Unvaccinated Rate  3753 non-null   float64\n",
      " 9   Age-Adjusted Vaccinated Rate    3753 non-null   float64\n",
      " 10  Age-Adjusted Boosted Rate       3753 non-null   float64\n",
      " 11  Age-Adjusted Vaccinated Ratio   3753 non-null   float64\n",
      " 12  Age-Adjusted Boosted Ratio      3753 non-null   float64\n",
      " 13  Population Unvaccinated         3753 non-null   int64  \n",
      " 14  Population Vaccinated           3753 non-null   float64\n",
      " 15  Population Boosted              3753 non-null   float64\n",
      " 16  Outcome Unvaccinated            3753 non-null   int64  \n",
      " 17  Outcome Vaccinated              3753 non-null   float64\n",
      " 18  Outcome Boosted                 3753 non-null   float64\n",
      " 19  Age Group Min                   3753 non-null   int64  \n",
      " 20  Age Group Max                   3753 non-null   int64  \n",
      "dtypes: float64(14), int64(4), object(3)\n",
      "memory usage: 615.9+ KB\n"
     ]
    }
   ],
   "source": [
    "df_covid.info()"
   ]
  },
  {
   "cell_type": "code",
   "execution_count": 14,
   "id": "d3e5d7ae",
   "metadata": {},
   "outputs": [],
   "source": [
    "#Provide the column name that provides the chronological order of your time-series\n",
    "profile = ProfileReport(df_covid, tsmode=True, sortby=\"Week End\", title=\"Time-Series EDA\")"
   ]
  },
  {
   "cell_type": "code",
   "execution_count": 15,
   "id": "f179df89",
   "metadata": {},
   "outputs": [
    {
     "data": {
      "application/vnd.jupyter.widget-view+json": {
       "model_id": "127b6cbffdf747b38f9bdbfdc707add1",
       "version_major": 2,
       "version_minor": 0
      },
      "text/plain": [
       "Summarize dataset:   0%|          | 0/5 [00:00<?, ?it/s]"
      ]
     },
     "metadata": {},
     "output_type": "display_data"
    },
    {
     "data": {
      "application/vnd.jupyter.widget-view+json": {
       "model_id": "b49984c6fca6406c8c1b0b6227136181",
       "version_major": 2,
       "version_minor": 0
      },
      "text/plain": [
       "Generate report structure:   0%|          | 0/1 [00:00<?, ?it/s]"
      ]
     },
     "metadata": {},
     "output_type": "display_data"
    },
    {
     "data": {
      "application/vnd.jupyter.widget-view+json": {
       "model_id": "a784aa20581d4c1c8921488d413b0cdf",
       "version_major": 2,
       "version_minor": 0
      },
      "text/plain": [
       "Render HTML:   0%|          | 0/1 [00:00<?, ?it/s]"
      ]
     },
     "metadata": {},
     "output_type": "display_data"
    },
    {
     "data": {
      "application/vnd.jupyter.widget-view+json": {
       "model_id": "23ade3362169426ea7b60265f5ba6548",
       "version_major": 2,
       "version_minor": 0
      },
      "text/plain": [
       "Export report to file:   0%|          | 0/1 [00:00<?, ?it/s]"
      ]
     },
     "metadata": {},
     "output_type": "display_data"
    }
   ],
   "source": [
    "profile.to_file(\"covid_summary_stats.html\")"
   ]
  },
  {
   "cell_type": "code",
   "execution_count": null,
   "id": "b33eff7d",
   "metadata": {},
   "outputs": [],
   "source": [
    "# Args:\n",
    "#     df: a pandas or spark.sql DataFrame\n",
    "#     minimal: minimal mode is a default configuration with minimal computation\n",
    "#     ts_mode: activates time-series analysis for all the numerical variables from the dataset. Only available for pd.DataFrame\n",
    "#     sort_by: ignored if ts_mode=False. Order the dataset by a provided column.\n",
    "#     sensitive: hides the values for categorical and text variables for report privacy\n",
    "#     config_file: a config file (.yml), mutually exclusive with `minimal`\n",
    "#     lazy: compute when needed\n",
    "#     sample: optional dict(name=\"Sample title\", caption=\"Caption\", data=pd.DataFrame())\n",
    "#     typeset: optional user typeset to use for type inference\n",
    "#     summarizer: optional user summarizer to generate custom summary output\n",
    "#     type_schema: optional dict containing pairs of `column name`: `type`\n",
    "#     **kwargs: other arguments, for valid arguments, check the default configuration file."
   ]
  }
 ],
 "metadata": {
  "kernelspec": {
   "display_name": "Python 3 (ipykernel)",
   "language": "python",
   "name": "python3"
  },
  "language_info": {
   "codemirror_mode": {
    "name": "ipython",
    "version": 3
   },
   "file_extension": ".py",
   "mimetype": "text/x-python",
   "name": "python",
   "nbconvert_exporter": "python",
   "pygments_lexer": "ipython3",
   "version": "3.9.7"
  }
 },
 "nbformat": 4,
 "nbformat_minor": 5
}
